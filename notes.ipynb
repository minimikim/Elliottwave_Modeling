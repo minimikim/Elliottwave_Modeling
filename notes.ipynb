{
 "cells": [
  {
   "cell_type": "markdown",
   "metadata": {},
   "source": [
    "# Documentation \n",
    "<div align='right'> 12/31/2022 </div>"
   ]
  },
  {
   "cell_type": "markdown",
   "metadata": {},
   "source": [
    "1. Initial setting "
   ]
  },
  {
   "cell_type": "code",
   "execution_count": 32,
   "metadata": {},
   "outputs": [],
   "source": [
    "import os\n",
    "import sys\n",
    "import math \n",
    "import warnings \n",
    "\n",
    "sys.path.insert(0,os.getcwd()+'\\\\data')\n",
    "sys.path.insert(0,os.getcwd()+'\\\\models')\n",
    "from simulator import simulator\n",
    "from wave_detector import monowave\n",
    "\n",
    "warnings.filterwarnings('ignore')"
   ]
  },
  {
   "cell_type": "code",
   "execution_count": 166,
   "metadata": {},
   "outputs": [],
   "source": [
    "data_path=os.path.join(os.getcwd(),'data/btcusd.csv')\n",
    "sim=simulator(data_path)"
   ]
  },
  {
   "cell_type": "code",
   "execution_count": 167,
   "metadata": {},
   "outputs": [],
   "source": [
    "sim(5570)"
   ]
  },
  {
   "cell_type": "markdown",
   "metadata": {},
   "source": [
    "#### Suppose new price is inputted to the monowave detector when the price is generated.\n",
    "***\n",
    "- Each price will be added to the price list and our indexing algorithm will save the status, idx number, monowave label of the price."
   ]
  },
  {
   "cell_type": "code",
   "execution_count": 168,
   "metadata": {},
   "outputs": [],
   "source": [
    "price=list()    # this is monowave price list\n",
    "idx=1           # this is the number of current monowave \n",
    "status=str()    # it will be 'inc' or 'dec'\n",
    "label_li=list()    # this is price's monowave label list"
   ]
  },
  {
   "cell_type": "code",
   "execution_count": 169,
   "metadata": {},
   "outputs": [],
   "source": [
    "# how to add each price to the price list\n",
    "price.append(sim.gen())"
   ]
  },
  {
   "cell_type": "code",
   "execution_count": 170,
   "metadata": {},
   "outputs": [
    {
     "name": "stdout",
     "output_type": "stream",
     "text": [
      "[30598.0]\n"
     ]
    }
   ],
   "source": [
    "print(price)"
   ]
  },
  {
   "cell_type": "markdown",
   "metadata": {},
   "source": [
    "- Monowave Indexing <br>\n",
    ": we can identify initial status after the number of price is at least two. "
   ]
  },
  {
   "cell_type": "code",
   "execution_count": 171,
   "metadata": {},
   "outputs": [
    {
     "name": "stdout",
     "output_type": "stream",
     "text": [
      "we are here\n"
     ]
    }
   ],
   "source": [
    "if len(price)<3:\n",
    "    label='M'+str(idx)\n",
    "    if len(price)==2:\n",
    "        if price[0] < price[-1]:\n",
    "            status='inc'\n",
    "        else:\n",
    "            status='dec'\n",
    "    else:\n",
    "        print('we are here')\n",
    "        pass\n",
    "label_li.append(label)"
   ]
  },
  {
   "cell_type": "code",
   "execution_count": 172,
   "metadata": {},
   "outputs": [
    {
     "name": "stdout",
     "output_type": "stream",
     "text": [
      "we are here now\n"
     ]
    }
   ],
   "source": [
    "#after add new price \n",
    "price.append(sim.gen())\n",
    "\n",
    "#now price length is 2\n",
    "if len(price)<3:\n",
    "    label='M'+str(idx)\n",
    "    if len(price)==2:\n",
    "        if price[0] < price[-1]:\n",
    "            status='inc'\n",
    "        else:\n",
    "            status='dec'\n",
    "        print('we are here now')\n",
    "    else:\n",
    "        print('we are here')\n",
    "        pass\n",
    "label_li.append(label)"
   ]
  },
  {
   "cell_type": "code",
   "execution_count": 173,
   "metadata": {},
   "outputs": [
    {
     "name": "stdout",
     "output_type": "stream",
     "text": [
      "status is inc\n",
      "price list is [30598.0, 30776.0]\n",
      "current monowave label is 1\n",
      "current label is M1\n"
     ]
    }
   ],
   "source": [
    "# we can check all stuffs like price, idx, label, status\n",
    "print('status is {}'.format(status))\n",
    "print('price list is {}'.format(price))\n",
    "print('current monowave label is {}'.format(idx))\n",
    "print('current label is {}'.format(label))"
   ]
  },
  {
   "cell_type": "code",
   "execution_count": 174,
   "metadata": {},
   "outputs": [],
   "source": [
    "#after add new price \n",
    "price.append(sim.gen())\n",
    "\n",
    "#now price length is 3\n",
    "\n",
    "if len(price)>=3:\n",
    "    if status=='inc':\n",
    "        if price[-2]<=price[-1]:\n",
    "            label='M'+str(idx)\n",
    "        else:\n",
    "            idx+=1\n",
    "            label='M'+str(idx)\n",
    "            status='dec'\n",
    "    elif status=='dec':\n",
    "        if price[-2]<=price[-1]:\n",
    "            idx+=1\n",
    "            label='M'+str(idx)\n",
    "            status='inc'\n",
    "        else:\n",
    "            label='M'+str(idx)\n",
    "\n",
    "label_li.append(label)"
   ]
  },
  {
   "cell_type": "code",
   "execution_count": 175,
   "metadata": {},
   "outputs": [
    {
     "name": "stdout",
     "output_type": "stream",
     "text": [
      "status is dec\n",
      "price list is [30598.0, 30776.0, 30748.79944116]\n",
      "current monowave label is 2\n",
      "current label is M2\n",
      "cuurent label list is ['M1', 'M1', 'M2']\n"
     ]
    }
   ],
   "source": [
    "# we can check all stuffs like price, idx, label, status\n",
    "print('status is {}'.format(status))\n",
    "print('price list is {}'.format(price))\n",
    "print('current monowave label is {}'.format(idx))\n",
    "print('current label is {}'.format(label))\n",
    "print('cuurent label list is {}'.format(label_li))"
   ]
  },
  {
   "cell_type": "markdown",
   "metadata": {},
   "source": [
    "#### based on former tutorial, we defined function monoindexing.\n",
    "*a few things are different with this tutorial but those are for another functions in the module so we skip them at this moment*"
   ]
  },
  {
   "cell_type": "code",
   "execution_count": 176,
   "metadata": {},
   "outputs": [],
   "source": [
    "# hope u can define function based on the upper codes \n",
    "def mono_indexing(price,idx):\n",
    "    '''\n",
    "    price : list\n",
    "    status : str\n",
    "    idx : int\n",
    "    label : str\n",
    "    label should be saved on label_list\n",
    "    '''\n",
    "    label_li.append(label)\n",
    "    return price,status,idx\n"
   ]
  },
  {
   "cell_type": "markdown",
   "metadata": {},
   "source": [
    "- logger <br>\n",
    ": it saves unique value of label and the price index of the label\n",
    "~~(the name should be changed, i guess)~~"
   ]
  },
  {
   "cell_type": "code",
   "execution_count": 177,
   "metadata": {},
   "outputs": [],
   "source": [
    "# why dont use set function of list \n",
    "# it change the order, so we choosed to define a new function,logger\n",
    "# the current label is M2, so we start it from M1 \n",
    "log_label=['M1']\n",
    "log_index=[1]\n",
    "if label not in log_label:\n",
    "    log_label.append(label)\n",
    "    log_index.append(len(price))"
   ]
  },
  {
   "cell_type": "code",
   "execution_count": 178,
   "metadata": {},
   "outputs": [
    {
     "name": "stdout",
     "output_type": "stream",
     "text": [
      "log index showes the start price idx+1 of monowave : [1, 3]\n",
      "log_label showes unique element of label list : ['M1', 'M2']\n"
     ]
    }
   ],
   "source": [
    "print('log index showes the start price idx+1 of monowave : {}'.format(log_index))\n",
    "print('log_label showes unique element of label list : {}'.format(log_label))\n"
   ]
  },
  {
   "cell_type": "code",
   "execution_count": 179,
   "metadata": {},
   "outputs": [
    {
     "name": "stdout",
     "output_type": "stream",
     "text": [
      "[30598.0, 30776.0, 30748.79944116]\n",
      "['M1', 'M1', 'M2']\n",
      "30598.0 : M1 start price\n",
      "30748.79944116 : M2 start price\n"
     ]
    }
   ],
   "source": [
    "# if you want to get the starting price of monowave \n",
    "print(price)\n",
    "print(label_li)\n",
    "print('{} : M1 start price'.format(price[log_index[0]-1]))\n",
    "print('{} : M2 start price'.format(price[log_index[-1]-1]))\n",
    "# but I knew the 'index - 1' is very annoying after code became complicated"
   ]
  },
  {
   "cell_type": "code",
   "execution_count": 180,
   "metadata": {},
   "outputs": [],
   "source": [
    "# hope u can define function based on the upper codes \n",
    "def logger(label):\n",
    "    '''\n",
    "    no return, but it have to save unique label and starting point\n",
    "    '''\n",
    "    "
   ]
  },
  {
   "cell_type": "markdown",
   "metadata": {},
   "source": [
    "- Yes, we studied how to mark the each monowave based on their price, now we have to make some rules following an elliott wave book. each rule have to be activated based on a certain condition. <br>\n",
    " : ..."
   ]
  },
  {
   "cell_type": "markdown",
   "metadata": {},
   "source": [
    "#### Rule of proportion\n",
    "- this rule scan a direction of monowave in the given price list. \n",
    "- we calculate price change and price return if new monowave is detected. \n",
    "\n",
    "- How to find the new monowave's direction <br>\n",
    "  i.e. if there are two monowaves, <br>\n",
    "  mono_change : M1_end_price - M1_start_price <br>\n",
    "  mono_return : M2_start_price - M1_end_price <br>\n",
    "  \n",
    "  after then, <br>\n",
    "  if the return price is under 0.618 X the change price, <br> \n",
    "  **the M2 has direction** <br>\n",
    "  **if not, the M2 has no direction.** <br> \n",
    "\n",
    "- How to find the last monowave's direction <br>\n",
    "  calculate the angle of M1 with the initial price-time ratio,<br>\n",
    "  if the angle is nearby 45, <br>\n",
    "  **then M1 has direction** <br>\n",
    "  (the rule allows upper_limit, lower_limit of angle) <br>\n",
    "\n",
    "~~we have to add one more function that defines the end point of non-direction 1.618 * endprice `<` start price rule.~~\n",
    "~~and also, considering the purpose of ROP, adding some function that make customer customize the ptr~~"
   ]
  },
  {
   "cell_type": "code",
   "execution_count": 181,
   "metadata": {},
   "outputs": [],
   "source": [
    "# we gonna simulate 5 more simulation \n",
    "x=0\n",
    "while x<5:\n",
    "    #after add new price \n",
    "    price.append(sim.gen())\n",
    "\n",
    "    if len(price)>=3:\n",
    "        if status=='inc':\n",
    "            if price[-2]<=price[-1]:\n",
    "                label='M'+str(idx)\n",
    "            else:\n",
    "                idx+=1\n",
    "                label='M'+str(idx)\n",
    "                status='dec'\n",
    "        elif status=='dec':\n",
    "            if price[-2]<=price[-1]:\n",
    "                idx+=1\n",
    "                label='M'+str(idx)\n",
    "                status='inc'\n",
    "            else:\n",
    "                label='M'+str(idx)\n",
    "\n",
    "    label_li.append(label)\n",
    "\n",
    "    if label not in log_label:\n",
    "        log_label.append(label)\n",
    "        log_index.append(len(price))\n",
    "    x+=1"
   ]
  },
  {
   "cell_type": "code",
   "execution_count": 182,
   "metadata": {},
   "outputs": [
    {
     "name": "stdout",
     "output_type": "stream",
     "text": [
      "status is dec\n",
      "price list is [30598.0, 30776.0, 30748.79944116, 30684.0, 30710.0, 30795.0, 30772.0, 30717.76945147]\n",
      "current monowave label is 4\n",
      "current label is M4\n",
      "cuurent label list is ['M1', 'M1', 'M2', 'M2', 'M3', 'M3', 'M4', 'M4']\n",
      "current unique label is ['M1', 'M2', 'M3', 'M4']\n",
      "cuurent monowave starting price list is [1, 3, 5, 7]\n"
     ]
    }
   ],
   "source": [
    "print('status is {}'.format(status))\n",
    "print('price list is {}'.format(price))\n",
    "print('current monowave label is {}'.format(idx))\n",
    "print('current label is {}'.format(label))\n",
    "print('cuurent label list is {}'.format(label_li)) \n",
    "print('current unique label is {}'.format(log_label))\n",
    "print('cuurent monowave starting price list is {}'.format(log_index)) "
   ]
  },
  {
   "cell_type": "code",
   "execution_count": 186,
   "metadata": {},
   "outputs": [],
   "source": [
    "#initial setting for rule of proportion \n",
    "timestamp=float(86400)\n",
    "ratio=float(10/86400)\n",
    "ptr=timestamp*ratio\n",
    "\n",
    "direction=dict()\n"
   ]
  },
  {
   "cell_type": "code",
   "execution_count": 187,
   "metadata": {},
   "outputs": [
    {
     "name": "stdout",
     "output_type": "stream",
     "text": [
      "30598.0 is the start price of M1, 30776.0 is the end price of M1, and 30748.79944116 is the new price of M2\n"
     ]
    }
   ],
   "source": [
    "# lets do RofP for the M2\n",
    "start_idx=log_index[0]-1\n",
    "new_idx=log_index[1]-1\n",
    "end_idx=new_idx-1\n",
    "\n",
    "start_price=price[start_idx]\n",
    "end_price=price[end_idx]\n",
    "new_price=price[new_idx]\n",
    "\n",
    "print('{} is the start price of M1, {} is the end price of M1, and {} is the new price of M2'.format(start_price,end_price,new_price))"
   ]
  },
  {
   "cell_type": "code",
   "execution_count": 188,
   "metadata": {},
   "outputs": [],
   "source": [
    "mono_change=end_price-start_price\n",
    "mono_return=new_price-end_price\n",
    "mono_0618=abs(mono_change)*0.618"
   ]
  },
  {
   "cell_type": "code",
   "execution_count": 202,
   "metadata": {},
   "outputs": [
    {
     "name": "stdout",
     "output_type": "stream",
     "text": [
      "angle is 84.0\n",
      "upper limit is 51.0\n",
      "lower limit is 39.0\n"
     ]
    }
   ],
   "source": [
    "# How to find the last monowave's direction\n",
    "time_pass=new_idx-start_idx\n",
    "base_time=time_pass*ptr\n",
    "\n",
    "#calculate angle with price change and base time\n",
    "angle=round(math.degrees(math.atan(abs(mono_change)/base_time)),0)\n",
    "print('angle is {}'.format(angle))\n",
    "\n",
    "upper_limit=round(math.degrees(math.atan((base_time*1.25)/base_time)),0)\n",
    "lower_limit=round(math.degrees(math.atan(base_time/(base_time*1.25))),0)\n",
    "\n",
    "print('upper limit is {}'.format(upper_limit))\n",
    "print('lower limit is {}'.format(lower_limit))"
   ]
  },
  {
   "cell_type": "code",
   "execution_count": null,
   "metadata": {},
   "outputs": [],
   "source": [
    "if angle<upper_limit or angle>lower_limit:\n",
    "    for key in range(start_idx,new_idx):\n",
    "        direction.update({key:'Dir'})\n",
    "    else:\n",
    "        \n",
    "        "
   ]
  },
  {
   "cell_type": "code",
   "execution_count": 203,
   "metadata": {},
   "outputs": [],
   "source": [
    "# How to find the new monowave's direction\n",
    "if mono_0618<abs(mono_return):\n",
    "    direction.update({new_idx:'Non_Dir'})\n",
    "else:\n",
    "    direction.update({new_idx:'Dir'})"
   ]
  },
  {
   "cell_type": "code",
   "execution_count": 204,
   "metadata": {},
   "outputs": [
    {
     "data": {
      "text/plain": [
       "{2: 'Dir'}"
      ]
     },
     "execution_count": 204,
     "metadata": {},
     "output_type": "execute_result"
    }
   ],
   "source": [
    "direction"
   ]
  },
  {
   "cell_type": "code",
   "execution_count": 216,
   "metadata": {},
   "outputs": [],
   "source": [
    "# for all labels, we could do this. \n",
    "for i in range(len(log_label)-1):\n",
    "    start_idx=log_index[i]-1\n",
    "    new_idx=log_index[i+1]-1\n",
    "    end_idx=new_idx-1\n",
    "\n",
    "    start_price=price[start_idx]\n",
    "    end_price=price[end_idx]\n",
    "    new_price=price[new_idx]\n",
    "\n",
    "    mono_change=end_price-start_price\n",
    "    mono_return=new_price-end_price\n",
    "    mono0618=abs(mono_change)*0.618\n",
    "\n",
    "    timepass=end_idx-start_idx\n",
    "    base_time=timepass*ptr\n",
    "    angle=round(math.degrees(math.atan(abs(mono_change)/base_time)),0)\n",
    "    \n",
    "    if mono_0618<abs(mono_return):\n",
    "        direction.update({new_idx:'Non_Dir'})\n",
    "    else:\n",
    "        direction.update({new_idx:'Dir'})\n",
    "\n",
    "    if angle<upper_limit and angle>lower_limit:\n",
    "        for key in range(start_idx,new_idx):\n",
    "            direction.update({key:'Dir'})"
   ]
  },
  {
   "cell_type": "code",
   "execution_count": 217,
   "metadata": {},
   "outputs": [
    {
     "name": "stdout",
     "output_type": "stream",
     "text": [
      "0 : Dir\n",
      "1 : Dir\n",
      "2 : Dir\n",
      "3 : Dir\n",
      "4 : Dir\n",
      "5 : Dir\n",
      "6 : Dir\n"
     ]
    }
   ],
   "source": [
    "for key, value in sorted(direction.items(), key=lambda x: x[0]): \n",
    "    print(\"{} : {}\".format(key, value))"
   ]
  },
  {
   "cell_type": "code",
   "execution_count": 218,
   "metadata": {},
   "outputs": [],
   "source": [
    "# we have to fix it .\n"
   ]
  },
  {
   "cell_type": "code",
   "execution_count": null,
   "metadata": {},
   "outputs": [],
   "source": []
  },
  {
   "cell_type": "markdown",
   "metadata": {},
   "source": [
    "#### Rule of Neurality\n",
    "- this rule should be activated when the new label is updated.<br>\n",
    "  if the angle between end price and new price is under 45, <br>\n",
    "  the new monogram will roll back as prior monowave.<br>\n",
    "\n",
    "- Rollback<br>\n",
    "  delete updated log_label <br>\n",
    "  delete updated log_index <br>\n",
    "  delete the last label <br>\n",
    "  add the label the same with prior label <br>\n",
    "  subtract idx 1 <br>\n",
    "  change status <br>"
   ]
  },
  {
   "cell_type": "code",
   "execution_count": 226,
   "metadata": {},
   "outputs": [],
   "source": [
    "# for this rule, we restart the prior simulation.\n",
    "\n",
    "sim(5570)\n",
    "\n",
    "price=list()    # this is monowave price list\n",
    "idx=1           # this is the number of current monowave \n",
    "status=str()    # it will be 'inc' or 'dec'\n",
    "label_li=list()    # this is price's monowave label list\n",
    "\n",
    "price.append(sim.gen())\n",
    "\n",
    "if len(price)<3:\n",
    "    label='M'+str(idx)\n",
    "    if len(price)==2:\n",
    "        if price[0] < price[-1]:\n",
    "            status='inc'\n",
    "        else:\n",
    "            status='dec'\n",
    "    else:\n",
    "        pass\n",
    "label_li.append(label)\n",
    "\n",
    "#after add new price \n",
    "price.append(sim.gen())\n",
    "\n",
    "#now price length is 2\n",
    "if len(price)<3:\n",
    "    label='M'+str(idx)\n",
    "    if len(price)==2:\n",
    "        if price[0] < price[-1]:\n",
    "            status='inc'\n",
    "        else:\n",
    "            status='dec'\n",
    "    else:\n",
    "        pass\n",
    "label_li.append(label)\n",
    "\n",
    "#after add new price \n",
    "price.append(sim.gen())\n",
    "\n",
    "#now price length is 3\n",
    "\n",
    "if len(price)>=3:\n",
    "    if status=='inc':\n",
    "        if price[-2]<=price[-1]:\n",
    "            label='M'+str(idx)\n",
    "        else:\n",
    "            idx+=1\n",
    "            label='M'+str(idx)\n",
    "            status='dec'\n",
    "    elif status=='dec':\n",
    "        if price[-2]<=price[-1]:\n",
    "            idx+=1\n",
    "            label='M'+str(idx)\n",
    "            status='inc'\n",
    "        else:\n",
    "            label='M'+str(idx)\n",
    "\n",
    "label_li.append(label)\n"
   ]
  },
  {
   "cell_type": "code",
   "execution_count": 227,
   "metadata": {},
   "outputs": [],
   "source": [
    "log_label=['M1']\n",
    "log_index=[1]\n",
    "if label not in log_label:\n",
    "    log_label.append(label)\n",
    "    log_index.append(len(price))"
   ]
  },
  {
   "cell_type": "code",
   "execution_count": 229,
   "metadata": {},
   "outputs": [],
   "source": [
    "# lets do RofP for the M2\n",
    "new_idx=len(price)-1\n",
    "new_price=price[new_idx]\n",
    "end_price=price[new_idx-1]\n",
    "change=new_price-end_price\n",
    "\n",
    "angle=round(math.degrees(math.atan(abs(change)/ptr)),0)\n",
    "\n",
    "if angle<45:\n",
    "    print('rollback')\n",
    "    log_label.pop()\n",
    "    log_index.pop()\n",
    "    label_li.pop()\n",
    "    label_li.append(log_label[-1])\n",
    "    idx-=1\n",
    "    if status=='dec':\n",
    "        status='inc'\n",
    "    elif status=='inc':\n",
    "        status='dec'"
   ]
  },
  {
   "cell_type": "code",
   "execution_count": 280,
   "metadata": {},
   "outputs": [
    {
     "name": "stdout",
     "output_type": "stream",
     "text": [
      "['M1', 'M2', 'M3', 'M4', 'M5', 'M6', 'M7', 'M8', 'M9', 'M10', 'M11', 'M12', 'M13', 'M14', 'M15', 'M16']\n"
     ]
    }
   ],
   "source": [
    "#execute this code when the new label is updated and then do next code\n",
    "price.append(sim.gen())\n",
    "\n",
    "\n",
    "if len(price)>=3:\n",
    "    if status=='inc':\n",
    "        if price[-2]<=price[-1]:\n",
    "            label='M'+str(idx)\n",
    "        else:\n",
    "            idx+=1\n",
    "            label='M'+str(idx)\n",
    "            status='dec'\n",
    "    elif status=='dec':\n",
    "        if price[-2]<=price[-1]:\n",
    "            idx+=1\n",
    "            label='M'+str(idx)\n",
    "            status='inc'\n",
    "        else:\n",
    "            label='M'+str(idx)\n",
    "\n",
    "label_li.append(label)\n",
    "\n",
    "if label not in log_label:\n",
    "    log_label.append(label)\n",
    "    log_index.append(len(price))\n",
    "\n",
    "print(log_label)\n"
   ]
  },
  {
   "cell_type": "code",
   "execution_count": 281,
   "metadata": {},
   "outputs": [
    {
     "name": "stdout",
     "output_type": "stream",
     "text": [
      "39.0\n",
      "rollback\n"
     ]
    }
   ],
   "source": [
    "# lets do RofP for the M2\n",
    "new_idx=len(price)-1\n",
    "new_price=price[new_idx]\n",
    "end_price=price[new_idx-1]\n",
    "change=new_price-end_price\n",
    "\n",
    "angle=round(math.degrees(math.atan(abs(change)/ptr)),0)\n",
    "print(angle)\n",
    "if angle<45:\n",
    "    print('rollback')\n",
    "    log_label.pop()\n",
    "    log_index.pop()\n",
    "    label_li.pop()\n",
    "    label_li.append(log_label[-1])\n",
    "    idx-=1\n",
    "    if status=='dec':\n",
    "        status='inc'\n",
    "    elif status=='inc':\n",
    "        status='dec'\n",
    "\n",
    "# it activated when m16"
   ]
  },
  {
   "cell_type": "code",
   "execution_count": 283,
   "metadata": {},
   "outputs": [
    {
     "data": {
      "text/plain": [
       "'M15'"
      ]
     },
     "execution_count": 283,
     "metadata": {},
     "output_type": "execute_result"
    }
   ],
   "source": [
    "log_label[-1]"
   ]
  },
  {
   "cell_type": "markdown",
   "metadata": {},
   "source": [
    "#### Rule of observation \n",
    "\n",
    "- This rule is activated when the new monowave label is updated"
   ]
  },
  {
   "cell_type": "code",
   "execution_count": 289,
   "metadata": {},
   "outputs": [],
   "source": [
    "#intial setting for rule of observation \n",
    "\n",
    "group_monowave=dict()\n",
    "group_idx=0\n",
    "\n",
    "def group_wave_encoding(start,end,group_idx):\n",
    "    # start and new is index number\n",
    "    #print('start : {} end: {}'.format(start,end) )\n",
    "    if start==end:\n",
    "        end+=1\n",
    "    idx_li=[x for x in range(start,end)]\n",
    "\n",
    "    #print('this is start : {} and new : {}'.format(start,new))\n",
    "    group_monowave[group_idx]=idx_li\n",
    "    group_idx+=1\n",
    "    tmp_r_ob=dict()\n",
    "    print('{} : current group wave index elements is : {} '.format(group_idx-1,group_monowave[group_idx-1]))\n"
   ]
  },
  {
   "cell_type": "code",
   "execution_count": 293,
   "metadata": {},
   "outputs": [],
   "source": [
    "tmp_r_ob=dict()"
   ]
  },
  {
   "cell_type": "code",
   "execution_count": 285,
   "metadata": {},
   "outputs": [],
   "source": [
    "# for this rule, we restart the prior simulation.\n",
    "\n",
    "sim(5570)\n",
    "\n",
    "price=list()    # this is monowave price list\n",
    "idx=1           # this is the number of current monowave \n",
    "status=str()    # it will be 'inc' or 'dec'\n",
    "label_li=list()    # this is price's monowave label list\n",
    "\n",
    "log_label=['M1']\n",
    "log_index=[1]\n",
    "\n",
    "price.append(sim.gen())\n",
    "\n",
    "if len(price)<3:\n",
    "    label='M'+str(idx)\n",
    "    if len(price)==2:\n",
    "        if price[0] < price[-1]:\n",
    "            status='inc'\n",
    "        else:\n",
    "            status='dec'\n",
    "    else:\n",
    "        pass\n",
    "label_li.append(label)\n",
    "\n",
    "#after add new price \n",
    "price.append(sim.gen())\n",
    "\n",
    "#now price length is 2\n",
    "if len(price)<3:\n",
    "    label='M'+str(idx)\n",
    "    if len(price)==2:\n",
    "        if price[0] < price[-1]:\n",
    "            status='inc'\n",
    "        else:\n",
    "            status='dec'\n",
    "    else:\n",
    "        pass\n",
    "label_li.append(label)\n",
    "\n"
   ]
  },
  {
   "cell_type": "code",
   "execution_count": 286,
   "metadata": {},
   "outputs": [],
   "source": [
    "\n",
    "#after add new price \n",
    "price.append(sim.gen())\n",
    "\n",
    "#now price length is 3\n",
    "\n",
    "if len(price)>=3:\n",
    "    if status=='inc':\n",
    "        if price[-2]<=price[-1]:\n",
    "            label='M'+str(idx)\n",
    "        else:\n",
    "            idx+=1\n",
    "            label='M'+str(idx)\n",
    "            status='dec'\n",
    "    elif status=='dec':\n",
    "        if price[-2]<=price[-1]:\n",
    "            idx+=1\n",
    "            label='M'+str(idx)\n",
    "            status='inc'\n",
    "        else:\n",
    "            label='M'+str(idx)\n",
    "\n",
    "label_li.append(label)\n",
    "\n",
    "if label not in log_label:\n",
    "    log_label.append(label)\n",
    "    log_index.append(len(price))\n",
    "    print(log_label)"
   ]
  },
  {
   "cell_type": "code",
   "execution_count": 287,
   "metadata": {},
   "outputs": [
    {
     "name": "stdout",
     "output_type": "stream",
     "text": [
      "['M1', 'M2']\n"
     ]
    }
   ],
   "source": [
    "print(log_label)"
   ]
  },
  {
   "cell_type": "code",
   "execution_count": 290,
   "metadata": {},
   "outputs": [
    {
     "name": "stdout",
     "output_type": "stream",
     "text": [
      "0 : current group wave index elements is : [0, 1] \n"
     ]
    }
   ],
   "source": [
    "if len(log_label)==2:\n",
    "    start=0\n",
    "    end=len(label_li)-1\n",
    "\n",
    "    group_idx=0\n",
    "    group_wave_encoding(start,end,group_idx=group_idx)\n"
   ]
  },
  {
   "cell_type": "code",
   "execution_count": 305,
   "metadata": {},
   "outputs": [
    {
     "name": "stdout",
     "output_type": "stream",
     "text": [
      "['M1', 'M2', 'M3', 'M4']\n"
     ]
    }
   ],
   "source": [
    "#execute untill new label is updated\n",
    "\n",
    "#after add new price \n",
    "price.append(sim.gen())\n",
    "\n",
    "#now price length is 3\n",
    "\n",
    "if len(price)>=3:\n",
    "    if status=='inc':\n",
    "        if price[-2]<=price[-1]:\n",
    "            label='M'+str(idx)\n",
    "        else:\n",
    "            idx+=1\n",
    "            label='M'+str(idx)\n",
    "            status='dec'\n",
    "    elif status=='dec':\n",
    "        if price[-2]<=price[-1]:\n",
    "            idx+=1\n",
    "            label='M'+str(idx)\n",
    "            status='inc'\n",
    "        else:\n",
    "            label='M'+str(idx)\n",
    "\n",
    "label_li.append(label)\n",
    "\n",
    "if label not in log_label:\n",
    "    log_label.append(label)\n",
    "    log_index.append(len(price))\n",
    "    print(log_label)"
   ]
  },
  {
   "cell_type": "code",
   "execution_count": 306,
   "metadata": {},
   "outputs": [],
   "source": [
    "if len(log_label)>2:\n",
    "    mono_end_price=price[log_index[-1]-2]\n",
    "    tmp_r_ob[mono_end_price]=log_index[-1]-2"
   ]
  },
  {
   "cell_type": "code",
   "execution_count": 299,
   "metadata": {},
   "outputs": [],
   "source": [
    "group_idx=1"
   ]
  },
  {
   "cell_type": "code",
   "execution_count": 300,
   "metadata": {},
   "outputs": [],
   "source": [
    "if group_idx<2:\n",
    "    start_index=group_monowave[group_idx-1][0]\n",
    "    start_price=price[start_index]\n",
    "    end_index=group_monowave[group_idx-1][-1]\n",
    "    end_price=price[end_index]\n",
    "else:\n",
    "    start_index=group_monowave[group_idx-2][-1]\n",
    "    start_price=price[start_index]\n",
    "    end_index=group_monowave[group_idx-1][-1]\n",
    "    end_price=price[end_index]"
   ]
  },
  {
   "cell_type": "code",
   "execution_count": 301,
   "metadata": {},
   "outputs": [],
   "source": [
    "mono_end_price=price[log_index[-1]-2]\n",
    "#print('monogram{} endprice is {}'.format(label[-2],mono_end_price))\n",
    "if start_price-end_price<0: # mono increased\n",
    "    if mono_end_price>start_price and mono_end_price<end_price:\n",
    "\n",
    "        pass\n",
    "    elif mono_end_price<start_price:\n",
    "        #new price : firstly inputted monowave's first price index\n",
    "        #end price: lastly inputted monowave's end price index\n",
    "        new_start_index=end_index+1\n",
    "        new_end_index=log_index[-1]-1\n",
    "\n",
    "        group_wave_encoding(new_start_index,new_end_index)\n",
    "        ##print(new_start_index,new_end_index)\n",
    "\n",
    "\n",
    "    elif mono_end_price>end_price:\n",
    "\n",
    "    #    new price : firstly inputted monowave's first price index\n",
    "    #    end price : minimum point of monowave index\n",
    "        new_start_index=end_index+1\n",
    "        new_end_index=tmp_r_ob[min(list(tmp_r_ob.keys()))]+1\n",
    "\n",
    "        group_wave_encoding(new_start_index,new_end_index)\n",
    "    #    new price 2: after point of end price index\n",
    "    #    end price 2: lastly inpuuted monowave's end price index]\n",
    "        new_start_index2=new_end_index\n",
    "        new_end_index2=log_index[-1]-1\n",
    "\n",
    "        group_wave_encoding(new_start_index2,new_end_index2)\n",
    "\n",
    "elif start_price-end_price>0: # mono decreased\n",
    "    if mono_end_price<start_price and mono_end_price>end_price:\n",
    "\n",
    "        pass\n",
    "    elif mono_end_price>start_price:\n",
    "        #new price : firstly inputted monowave's first price index\n",
    "        #end price: lastly inputted monowave's end price index\n",
    "        new_start_index=end_index+1\n",
    "        new_end_index=log_index[-1]-1\n",
    "\n",
    "        group_wave_encoding(new_start_index,new_end_index)\n",
    "\n",
    "    elif mono_end_price<end_price:\n",
    "    #    new price : firstly inputted monowave's first price index\n",
    "    #    end price : minimum point of monowave index\n",
    "        new_start_index=end_index+1\n",
    "        new_end_index=tmp_r_ob[max(list(tmp_r_ob.keys()))]+1\n",
    "\n",
    "        group_wave_encoding(new_start_index,new_end_index)\n",
    "    #    new price 2: after point of end price index\n",
    "    #    end price 2: lastly inpuuted monowave's end price index]\n",
    "        new_start_index2=new_end_index\n",
    "        new_end_index2=log_index[-1]-1\n",
    "\n",
    "        group_wave_encoding(new_start_index2,new_end_index2)"
   ]
  },
  {
   "cell_type": "code",
   "execution_count": 303,
   "metadata": {},
   "outputs": [
    {
     "name": "stdout",
     "output_type": "stream",
     "text": [
      "{0: [0, 1]}\n"
     ]
    }
   ],
   "source": [
    "print(group_monowave)"
   ]
  },
  {
   "cell_type": "code",
   "execution_count": 307,
   "metadata": {},
   "outputs": [],
   "source": []
  },
  {
   "cell_type": "code",
   "execution_count": null,
   "metadata": {},
   "outputs": [],
   "source": []
  }
 ],
 "metadata": {
  "kernelspec": {
   "display_name": "Python 3",
   "language": "python",
   "name": "python3"
  },
  "language_info": {
   "codemirror_mode": {
    "name": "ipython",
    "version": 3
   },
   "file_extension": ".py",
   "mimetype": "text/x-python",
   "name": "python",
   "nbconvert_exporter": "python",
   "pygments_lexer": "ipython3",
   "version": "3.6.12"
  },
  "vscode": {
   "interpreter": {
    "hash": "c2cc5ef8214012e9c7bac5dd1817426fab7de96cfbbad37f6a2ec716c292d755"
   }
  }
 },
 "nbformat": 4,
 "nbformat_minor": 5
}
